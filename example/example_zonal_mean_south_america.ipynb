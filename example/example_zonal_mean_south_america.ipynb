{
 "cells": [
  {
   "cell_type": "code",
   "execution_count": 2,
   "id": "42bc12b4",
   "metadata": {},
   "outputs": [],
   "source": [
    "####importing packages\n",
    "import sys\n",
    "sys.path.append('/work/mh0731/m300876/package/')\n",
    "import text_moving\n",
    "from pathlib import Path\n",
    "import importlib\n",
    "import numpy as np"
   ]
  },
  {
   "cell_type": "code",
   "execution_count": 6,
   "id": "0622bf34",
   "metadata": {},
   "outputs": [],
   "source": [
    "vector = np.random.rand(100)"
   ]
  },
  {
   "cell_type": "code",
   "execution_count": 8,
   "id": "60c58474",
   "metadata": {},
   "outputs": [],
   "source": [
    "raverage = text_moving.rolling_mean(vector,10)"
   ]
  },
  {
   "cell_type": "code",
   "execution_count": 9,
   "id": "f3d1a20e",
   "metadata": {},
   "outputs": [
    {
     "data": {
      "text/plain": [
       "array([0.50383623, 0.49931732, 0.5042899 , 0.45851738, 0.51322517,\n",
       "       0.48191588, 0.49492642, 0.46650185, 0.54363816, 0.60694499,\n",
       "       0.61188008, 0.65982262, 0.6652129 , 0.6163607 , 0.63410804,\n",
       "       0.61851727, 0.61406524, 0.6218205 , 0.60942592, 0.62624785,\n",
       "       0.60787941, 0.65756165, 0.69703766, 0.71450593, 0.71661046,\n",
       "       0.70325532, 0.67255126, 0.62281085, 0.5595604 , 0.50088721,\n",
       "       0.52517929, 0.47519919, 0.45316684, 0.47367473, 0.48054634,\n",
       "       0.48307894, 0.45381675, 0.45840753, 0.5560401 , 0.56142296,\n",
       "       0.48221961, 0.46015143, 0.48703879, 0.50342541, 0.42545127,\n",
       "       0.44643239, 0.50945221, 0.53736447, 0.53072555, 0.49074285,\n",
       "       0.50686893, 0.56557455, 0.54811408, 0.51809709, 0.51318986,\n",
       "       0.53814324, 0.48601937, 0.46403452, 0.40754451, 0.42357825,\n",
       "       0.46724007, 0.42379148, 0.36024946, 0.39621761, 0.4188417 ,\n",
       "       0.34467063, 0.31633856, 0.32210164, 0.31918848, 0.38047004,\n",
       "       0.38913151, 0.37389829, 0.37581418, 0.33647678, 0.35021507,\n",
       "       0.3771947 , 0.41808303, 0.46122685, 0.49461006, 0.4854775 ,\n",
       "       0.40655399, 0.43295032, 0.46138855, 0.52691163, 0.49354383,\n",
       "       0.50780578, 0.54647888, 0.50935052, 0.47909045, 0.48882537,\n",
       "       0.48852569])"
      ]
     },
     "execution_count": 9,
     "metadata": {},
     "output_type": "execute_result"
    }
   ],
   "source": [
    "raverage"
   ]
  },
  {
   "cell_type": "code",
   "execution_count": 11,
   "id": "4bfccc75",
   "metadata": {},
   "outputs": [
    {
     "data": {
      "text/plain": [
       "0.4993173193016808"
      ]
     },
     "execution_count": 11,
     "metadata": {},
     "output_type": "execute_result"
    }
   ],
   "source": [
    "np.mean(vector[1:11])"
   ]
  },
  {
   "cell_type": "code",
   "execution_count": 17,
   "id": "7f3b01e2",
   "metadata": {},
   "outputs": [],
   "source": [
    "times = np.array(np.arange(0,365*24*3600,24*3600), dtype='datetime64[s]')"
   ]
  },
  {
   "cell_type": "code",
   "execution_count": 18,
   "id": "a0b940cb",
   "metadata": {},
   "outputs": [
    {
     "ename": "AttributeError",
     "evalue": "'numpy.ndarray' object has no attribute 'day'",
     "output_type": "error",
     "traceback": [
      "\u001b[0;31m---------------------------------------------------------------------------\u001b[0m",
      "\u001b[0;31mAttributeError\u001b[0m                            Traceback (most recent call last)",
      "Input \u001b[0;32mIn [18]\u001b[0m, in \u001b[0;36m<cell line: 1>\u001b[0;34m()\u001b[0m\n\u001b[0;32m----> 1\u001b[0m \u001b[43mtimes\u001b[49m\u001b[38;5;241;43m.\u001b[39;49m\u001b[43mday\u001b[49m\n",
      "\u001b[0;31mAttributeError\u001b[0m: 'numpy.ndarray' object has no attribute 'day'"
     ]
    }
   ],
   "source": []
  },
  {
   "cell_type": "code",
   "execution_count": null,
   "id": "a570c653",
   "metadata": {},
   "outputs": [],
   "source": []
  }
 ],
 "metadata": {
  "kernelspec": {
   "display_name": "Python 3 (based on the module python3/2022.01)",
   "language": "python",
   "name": "python3_2022_01"
  },
  "language_info": {
   "codemirror_mode": {
    "name": "ipython",
    "version": 3
   },
   "file_extension": ".py",
   "mimetype": "text/x-python",
   "name": "python",
   "nbconvert_exporter": "python",
   "pygments_lexer": "ipython3",
   "version": "3.9.9"
  }
 },
 "nbformat": 4,
 "nbformat_minor": 5
}
